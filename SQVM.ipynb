{
 "cells": [
  {
   "cell_type": "code",
   "execution_count": 1,
   "id": "87807ae5-1684-448a-9fec-1afe51656e21",
   "metadata": {},
   "outputs": [],
   "source": [
    "import numpy as np\n",
    "\n",
    "# Importing standard Qiskit libraries\n",
    "from qiskit import QuantumCircuit, transpile, Aer, IBMQ\n",
    "from qiskit.tools.jupyter import *\n",
    "from qiskit.visualization import *\n",
    "from ibm_quantum_widgets import *\n",
    "from qiskit.providers.aer import QasmSimulator\n",
    "\n",
    "# Loading your IBM Quantum account(s)\n",
    "provider = IBMQ.load_account()"
   ]
  },
  {
   "cell_type": "code",
   "execution_count": 2,
   "id": "a3f3c701-3d63-434d-9da7-e02abf8e0c1e",
   "metadata": {},
   "outputs": [
    {
     "name": "stderr",
     "output_type": "stream",
     "text": [
      "/opt/conda/lib/python3.8/site-packages/qiskit/aqua/__init__.py:86: DeprecationWarning: The package qiskit.aqua is deprecated. It was moved/refactored to qiskit-terra For more information see <https://github.com/Qiskit/qiskit-aqua/blob/main/README.md#migration-guide>\n",
      "  warn_package('aqua', 'qiskit-terra')\n",
      "/opt/conda/lib/python3.8/site-packages/qiskit/ml/__init__.py:40: DeprecationWarning: The package qiskit.ml is deprecated. It was moved/refactored to qiskit_machine_learning (pip install qiskit-machine-learning). For more information see <https://github.com/Qiskit/qiskit-aqua/blob/main/README.md#migration-guide>\n",
      "  warn_package('ml', 'qiskit_machine_learning', 'qiskit-machine-learning')\n"
     ]
    }
   ],
   "source": [
    "from qiskit.ml.datasets import *\n",
    "from qiskit import QuantumCircuit\n",
    "from qiskit.aqua.components.optimizers import COBYLA\n",
    "from qiskit.circuit.library import ZZFeatureMap, RealAmplitudes\n",
    "import numpy as np\n",
    "import matplotlib.pyplot as plt\n",
    "from qiskit.quantum_info import Statevector\n",
    "%matplotlib inline"
   ]
  },
  {
   "cell_type": "code",
   "execution_count": 3,
   "id": "9ca8f995-7717-4d32-ae87-9af246e75821",
   "metadata": {},
   "outputs": [
    {
     "name": "stderr",
     "output_type": "stream",
     "text": [
      "/opt/conda/lib/python3.8/site-packages/qiskit/ml/datasets/ad_hoc.py:79: DeprecationWarning: The variable qiskit.aqua.aqua_globals is deprecated. It was moved/refactored to qiskit.utils.algorithm_globals (pip install qiskit-terra). For more information see <https://github.com/Qiskit/qiskit-aqua/blob/main/README.md#migration-guide>\n",
      "  basis = aqua_globals.random.random((2 ** n, 2 ** n)) + \\\n"
     ]
    },
    {
     "data": {
      "image/png": "[encoded data removed]",
      "text/plain": [
       "<Figure size 432x288 with 1 Axes>"
      ]
     },
     "metadata": {
      "needs_background": "light"
     },
     "output_type": "display_data"
    },
    {
     "name": "stdout",
     "output_type": "stream",
     "text": [
      "['A', 'B']\n"
     ]
    }
   ],
   "source": [
    "# size of training data set\n",
    "training_size = 100\n",
    "# size of test data set\n",
    "test_size = 20\n",
    "# dimension of data sets\n",
    "n = 2\n",
    "# construct training and test data\n",
    "_, training_input, test_input, class_labels = ad_hoc_data(training_size=training_size, test_size=test_size, n=2, gap=0.9, plot_data=True)\n",
    "print(class_labels)"
   ]
  },
  {
   "cell_type": "code",
   "execution_count": 4,
   "id": "836993a7-cbfe-45bb-ad2d-3c352bd98c35",
   "metadata": {},
   "outputs": [
    {
     "name": "stderr",
     "output_type": "stream",
     "text": [
      "/tmp/ipykernel_590/2595784837.py:4: DeprecationWarning: The QuantumCircuit.combine() method is being deprecated. Use the compose() method which is more flexible w.r.t circuit register compatibility.\n",
      "  circuit = feature_map.combine(var_form)\n",
      "/opt/conda/lib/python3.8/site-packages/sympy/core/expr.py:2451: SymPyDeprecationWarning: \n",
      "\n",
      "expr_free_symbols method has been deprecated since SymPy 1.9. See\n",
      "https://github.com/sympy/sympy/issues/21494 for more info.\n",
      "\n",
      "  SymPyDeprecationWarning(feature=\"expr_free_symbols method\",\n"
     ]
    },
    {
     "data": {
      "image/png": "[encoded data removed]",
      "text/plain": [
       "<Figure size 688.452x144.48 with 1 Axes>"
      ]
     },
     "execution_count": 4,
     "metadata": {},
     "output_type": "execute_result"
    }
   ],
   "source": [
    "sv = Statevector.from_label('0' * n)\n",
    "feature_map = ZZFeatureMap(n, reps=1)\n",
    "var_form = RealAmplitudes(n, reps=1)\n",
    "circuit = feature_map.combine(var_form)\n",
    "circuit.decompose().draw(output='mpl')"
   ]
  },
  {
   "cell_type": "code",
   "execution_count": 5,
   "id": "9eca9cde-eb83-44b7-a5ea-3356c3444901",
   "metadata": {},
   "outputs": [],
   "source": [
    "def get_data_dict(params, x):\n",
    "    parameters = {}\n",
    "    for i, p in enumerate(feature_map.ordered_parameters):\n",
    "        parameters[p] = x[i]\n",
    "    for i, p in enumerate(var_form.ordered_parameters):\n",
    "        parameters[p] = params[i]\n",
    "    return parameters"
   ]
  },
  {
   "cell_type": "code",
   "execution_count": 6,
   "id": "ef057f42-5a17-48fb-a872-ee8c9ceb8d67",
   "metadata": {},
   "outputs": [],
   "source": [
    "data = [0.1, 1.2]\n",
    "params = np.array([0.1, 1.2, 0.02, 0.3])\n",
    "#print(get_data_dict(params, data))\n",
    "#circ_ = circuit.assign_parameters(get_data_dict(params, data))\n",
    "#circ_.decompose().draw(plot_barriers=True)"
   ]
  },
  {
   "cell_type": "code",
   "execution_count": 7,
   "id": "ad597244-b75e-4f88-8f0d-1b12d9ec98a9",
   "metadata": {},
   "outputs": [],
   "source": [
    "def assign_label(bit_string, class_labels):\n",
    "    hamming_weight = sum([int(k) for k in list(bit_string)])\n",
    "    is_odd_parity = hamming_weight & 1\n",
    "    if is_odd_parity:\n",
    "        return class_labels[1]\n",
    "    else:\n",
    "        return class_labels[0]\n",
    "\n",
    "def return_probabilities(counts, class_labels):\n",
    "    shots = sum(counts.values())\n",
    "    result = {class_labels[0]: 0,class_labels[1]: 0}\n",
    "    for key, item in counts.items():\n",
    "        label = assign_label(key, class_labels)\n",
    "        result[label] += counts[key]/shots\n",
    "    return result"
   ]
  },
  {
   "cell_type": "code",
   "execution_count": 8,
   "id": "eb12aa80-7b7c-468a-8c56-935c005f4e6a",
   "metadata": {},
   "outputs": [
    {
     "data": {
      "text/plain": [
       "{'A': 0.75, 'B': 0.25}"
      ]
     },
     "execution_count": 8,
     "metadata": {},
     "output_type": "execute_result"
    }
   ],
   "source": [
    "return_probabilities({'00' : 10, '01': 10, '11': 20}, class_labels)  "
   ]
  },
  {
   "cell_type": "code",
   "execution_count": 9,
   "id": "b736401e-192f-4549-b422-4afa555ca0b2",
   "metadata": {},
   "outputs": [],
   "source": [
    "def classify(x_list, params, class_labels):\n",
    "    qc_list = []\n",
    "    for x in x_list:\n",
    "        circ_ = circuit.assign_parameters(get_data_dict(params, x))\n",
    "        qc = sv.evolve(circ_)\n",
    "        qc_list += [qc]\n",
    "    probs = []\n",
    "    for qc in qc_list:\n",
    "        counts = qc.probabilities_dict() \n",
    "        prob = return_probabilities(counts, class_labels)\n",
    "        probs += [prob]\n",
    "    return probs"
   ]
  },
  {
   "cell_type": "code",
   "execution_count": 10,
   "id": "9e1b44ae-889e-43ad-87eb-97f10c48e7b9",
   "metadata": {},
   "outputs": [
    {
     "data": {
      "text/plain": [
       "[{'A': 0.9123493926175841, 'B': 0.08765060738241598}]"
      ]
     },
     "execution_count": 10,
     "metadata": {},
     "output_type": "execute_result"
    }
   ],
   "source": [
    "# classify a test data point\n",
    "x = np.asarray([[0.5, 0.9]])\n",
    "classify(x, params=np.array([0.8, -0.5, 1.5, 0.5]), class_labels=class_labels)"
   ]
  },
  {
   "cell_type": "code",
   "execution_count": 11,
   "id": "b1a3e90a-793d-43fb-9ee6-8aabcea4cdcd",
   "metadata": {},
   "outputs": [
    {
     "data": {
      "image/png": "[encoded data removed]",
      "text/plain": [
       "<Figure size 432x288 with 1 Axes>"
      ]
     },
     "metadata": {
      "needs_background": "light"
     },
     "output_type": "display_data"
    }
   ],
   "source": [
    "def cost_estimate_sigmoid(probs, expected_label): # probability of labels vs actual labels\n",
    "    p = probs.get(expected_label)\n",
    "    sig = None\n",
    "    if np.isclose(p, 0.0):\n",
    "        sig = 1\n",
    "    elif np.isclose(p, 1.0):\n",
    "        sig = 0\n",
    "    else:\n",
    "        denominator = np.sqrt(2*p*(1-p))\n",
    "        x = np.sqrt(200)*(0.5-p)/denominator\n",
    "        sig = 1/(1+np.exp(-x))\n",
    "    return sig\n",
    "x = np.linspace(0, 1, 20)\n",
    "y = [cost_estimate_sigmoid({'A': x_, 'B': 1-x_}, 'A') for x_ in x]\n",
    "plt.plot(x, y)\n",
    "plt.xlabel('Probability of assigning the correct class')\n",
    "plt.ylabel('Cost value')\n",
    "plt.show()"
   ]
  },
  {
   "cell_type": "code",
   "execution_count": 12,
   "id": "83116e80-d349-4885-9385-ceff561c1244",
   "metadata": {},
   "outputs": [
    {
     "data": {
      "text/plain": [
       "0.571758314945825"
      ]
     },
     "execution_count": 12,
     "metadata": {},
     "output_type": "execute_result"
    }
   ],
   "source": [
    "def cost_function(training_input, class_labels, params, shots=100, print_value=False):\n",
    "    # map training input to list of labels and list of samples\n",
    "    cost = 0\n",
    "    training_labels = []\n",
    "    training_samples = []\n",
    "    for label, samples in training_input.items():\n",
    "        for sample in samples:\n",
    "            training_labels += [label]\n",
    "            training_samples += [sample]\n",
    "# classify all samples\n",
    "    probs = classify(training_samples, params, class_labels)\n",
    "# evaluate costs for all classified samples\n",
    "    for i, prob in enumerate(probs):\n",
    "        cost += cost_estimate_sigmoid(prob, training_labels[i])\n",
    "    cost /= len(training_samples)\n",
    "# print resulting objective function\n",
    "    if print_value:\n",
    "        print('%.4f' % cost)\n",
    "# return objective value\n",
    "    return cost\n",
    "\n",
    "cost_function(training_input, class_labels, params)"
   ]
  },
  {
   "cell_type": "code",
   "execution_count": 13,
   "id": "093d2ee1-921c-472e-b80a-722eed054d8c",
   "metadata": {},
   "outputs": [
    {
     "name": "stderr",
     "output_type": "stream",
     "text": [
      "/opt/conda/lib/python3.8/site-packages/qiskit/aqua/components/optimizers/optimizer.py:49: DeprecationWarning: The package qiskit.aqua.components.optimizers is deprecated. It was moved/refactored to qiskit.algorithms.optimizers (pip install qiskit-terra). For more information see <https://github.com/Qiskit/qiskit-aqua/blob/main/README.md#migration-guide>\n",
      "  warn_package('aqua.components.optimizers',\n"
     ]
    },
    {
     "name": "stdout",
     "output_type": "stream",
     "text": [
      "\n",
      "opt_params: [8.19894213 1.41375442 4.02114925 6.05253124]\n",
      "opt_value:  0.051505670592263304\n"
     ]
    }
   ],
   "source": [
    "#Train the classifier\n",
    "#Training the classifier corresponds to an optimisation task. We want to minimize the cost value\n",
    "#(sigmoid function) such that the classifier manages to properly label the given data.\n",
    "\n",
    "# setup the optimizer\n",
    "optimizer = COBYLA(maxiter=100)\n",
    "# define objective function for training\n",
    "objective_function = lambda params: cost_function(training_input, class_labels, params, print_value=False) \n",
    "# randomly initialize the parameters\n",
    "np.random.seed(137)\n",
    "init_params = 2*np.pi*np.random.rand(n*(1)*2)\n",
    "# train classifier\n",
    "opt_params, value, _ = optimizer.optimize(len(init_params), objective_function, initial_point=init_params)\n",
    "# print results\n",
    "print()\n",
    "print('opt_params:', opt_params)\n",
    "print('opt_value: ', value)"
   ]
  },
  {
   "cell_type": "code",
   "execution_count": 14,
   "id": "02580173-08b4-42e6-a55e-7bbc9e38c61a",
   "metadata": {},
   "outputs": [
    {
     "name": "stdout",
     "output_type": "stream",
     "text": [
      "----------------------------------------------------\n",
      "Data point:  [4.08407045 2.32477856]\n",
      "Label:  A\n",
      "Assigned:  A\n",
      "Probabilities:  {'A': 0.9164052582771807, 'B': 0.08359474172281933}\n",
      "Classification: CORRECT\n",
      "----------------------------------------------------\n",
      "Data point:  [5.65486678 1.00530965]\n",
      "Label:  A\n",
      "Assigned:  A\n",
      "Probabilities:  {'A': 0.915806158695245, 'B': 0.08419384130475502}\n",
      "Classification: CORRECT\n",
      "----------------------------------------------------\n",
      "Data point:  [2.19911486 0.56548668]\n",
      "Label:  A\n",
      "Assigned:  A\n",
      "Probabilities:  {'A': 0.780981331957743, 'B': 0.21901866804225698}\n",
      "Classification: CORRECT\n",
      "----------------------------------------------------\n",
      "Data point:  [5.78053048 4.0212386 ]\n",
      "Label:  A\n",
      "Assigned:  A\n",
      "Probabilities:  {'A': 0.7617988314922963, 'B': 0.23820116850770362}\n",
      "Classification: CORRECT\n",
      "----------------------------------------------------\n",
      "Data point:  [5.90619419 4.0212386 ]\n",
      "Label:  A\n",
      "Assigned:  A\n",
      "Probabilities:  {'A': 0.6966843628415835, 'B': 0.3033156371584166}\n",
      "Classification: CORRECT\n",
      "----------------------------------------------------\n",
      "Data point:  [5.71769863 1.00530965]\n",
      "Label:  A\n",
      "Assigned:  A\n",
      "Probabilities:  {'A': 0.8613142053472487, 'B': 0.13868579465275133}\n",
      "Classification: CORRECT\n",
      "----------------------------------------------------\n",
      "Data point:  [5.59203492 0.9424778 ]\n",
      "Label:  A\n",
      "Assigned:  A\n",
      "Probabilities:  {'A': 0.932800309889507, 'B': 0.06719969011049302}\n",
      "Classification: CORRECT\n",
      "----------------------------------------------------\n",
      "Data point:  [4.1469023  5.59203492]\n",
      "Label:  A\n",
      "Assigned:  A\n",
      "Probabilities:  {'A': 0.9035756294109978, 'B': 0.09642437058900212}\n",
      "Classification: CORRECT\n",
      "----------------------------------------------------\n",
      "Data point:  [4.0212386  5.78053048]\n",
      "Label:  A\n",
      "Assigned:  A\n",
      "Probabilities:  {'A': 0.8612549938922881, 'B': 0.1387450061077119}\n",
      "Classification: CORRECT\n",
      "----------------------------------------------------\n",
      "Data point:  [2.19911486 0.56548668]\n",
      "Label:  A\n",
      "Assigned:  A\n",
      "Probabilities:  {'A': 0.780981331957743, 'B': 0.21901866804225698}\n",
      "Classification: CORRECT\n",
      "----------------------------------------------------\n",
      "Data point:  [4.0212386  5.78053048]\n",
      "Label:  A\n",
      "Assigned:  A\n",
      "Probabilities:  {'A': 0.8612549938922881, 'B': 0.1387450061077119}\n",
      "Classification: CORRECT\n",
      "----------------------------------------------------\n",
      "Data point:  [0.62831853 5.96902604]\n",
      "Label:  A\n",
      "Assigned:  A\n",
      "Probabilities:  {'A': 0.7564006351022661, 'B': 0.24359936489773398}\n",
      "Classification: CORRECT\n",
      "----------------------------------------------------\n",
      "Data point:  [4.08407045 2.45044227]\n",
      "Label:  A\n",
      "Assigned:  A\n",
      "Probabilities:  {'A': 0.9258455014712312, 'B': 0.07415449852876879}\n",
      "Classification: CORRECT\n",
      "----------------------------------------------------\n",
      "Data point:  [5.59203492 0.9424778 ]\n",
      "Label:  A\n",
      "Assigned:  A\n",
      "Probabilities:  {'A': 0.932800309889507, 'B': 0.06719969011049302}\n",
      "Classification: CORRECT\n",
      "----------------------------------------------------\n",
      "Data point:  [4.1469023  5.59203492]\n",
      "Label:  A\n",
      "Assigned:  A\n",
      "Probabilities:  {'A': 0.9035756294109978, 'B': 0.09642437058900212}\n",
      "Classification: CORRECT\n",
      "----------------------------------------------------\n",
      "Data point:  [0.69115038 6.03185789]\n",
      "Label:  A\n",
      "Assigned:  A\n",
      "Probabilities:  {'A': 0.7366020462899974, 'B': 0.2633979537100026}\n",
      "Classification: CORRECT\n",
      "----------------------------------------------------\n",
      "Data point:  [0.56548668 5.27787566]\n",
      "Label:  A\n",
      "Assigned:  A\n",
      "Probabilities:  {'A': 0.7457216759613231, 'B': 0.2542783240386769}\n",
      "Classification: CORRECT\n",
      "----------------------------------------------------\n",
      "Data point:  [5.78053048 4.0212386 ]\n",
      "Label:  A\n",
      "Assigned:  A\n",
      "Probabilities:  {'A': 0.7617988314922963, 'B': 0.23820116850770362}\n",
      "Classification: CORRECT\n",
      "----------------------------------------------------\n",
      "Data point:  [4.08407045 2.32477856]\n",
      "Label:  A\n",
      "Assigned:  A\n",
      "Probabilities:  {'A': 0.9164052582771807, 'B': 0.08359474172281933}\n",
      "Classification: CORRECT\n",
      "----------------------------------------------------\n",
      "Data point:  [2.19911486 0.62831853]\n",
      "Label:  A\n",
      "Assigned:  A\n",
      "Probabilities:  {'A': 0.7800560685690449, 'B': 0.21994393143095511}\n",
      "Classification: CORRECT\n",
      "----------------------------------------------------\n",
      "Data point:  [5.65486678 2.63893783]\n",
      "Label:  B\n",
      "Assigned:  B\n",
      "Probabilities:  {'A': 0.034966786095902994, 'B': 0.9650332139040971}\n",
      "Classification: CORRECT\n",
      "----------------------------------------------------\n",
      "Data point:  [3.89557489 3.95840674]\n",
      "Label:  B\n",
      "Assigned:  B\n",
      "Probabilities:  {'A': 0.052009199498002326, 'B': 0.9479908005019977}\n",
      "Classification: CORRECT\n",
      "----------------------------------------------------\n",
      "Data point:  [2.57610598 0.37699112]\n",
      "Label:  B\n",
      "Assigned:  A\n",
      "Probabilities:  {'A': 0.5257774203553722, 'B': 0.4742225796446279}\n",
      "Classification: INCORRECT\n",
      "----------------------------------------------------\n",
      "Data point:  [4.08407045 4.20973416]\n",
      "Label:  B\n",
      "Assigned:  B\n",
      "Probabilities:  {'A': 0.20587165182936548, 'B': 0.7941283481706345}\n",
      "Classification: CORRECT\n",
      "----------------------------------------------------\n",
      "Data point:  [2.19911486 5.65486678]\n",
      "Label:  B\n",
      "Assigned:  B\n",
      "Probabilities:  {'A': 0.2304232988508293, 'B': 0.7695767011491706}\n",
      "Classification: CORRECT\n",
      "----------------------------------------------------\n",
      "Data point:  [0.81681409 3.70707933]\n",
      "Label:  B\n",
      "Assigned:  B\n",
      "Probabilities:  {'A': 0.080525921016285, 'B': 0.919474078983715}\n",
      "Classification: CORRECT\n",
      "----------------------------------------------------\n",
      "Data point:  [5.52920307 2.19911486]\n",
      "Label:  B\n",
      "Assigned:  B\n",
      "Probabilities:  {'A': 0.233803863167725, 'B': 0.7661961368322749}\n",
      "Classification: CORRECT\n",
      "----------------------------------------------------\n",
      "Data point:  [5.46637122 2.63893783]\n",
      "Label:  B\n",
      "Assigned:  B\n",
      "Probabilities:  {'A': 0.017386729457970786, 'B': 0.9826132705420292}\n",
      "Classification: CORRECT\n",
      "----------------------------------------------------\n",
      "Data point:  [0.75398224 3.83274304]\n",
      "Label:  B\n",
      "Assigned:  B\n",
      "Probabilities:  {'A': 0.06632030128649191, 'B': 0.9336796987135081}\n",
      "Classification: CORRECT\n",
      "----------------------------------------------------\n",
      "Data point:  [5.59203492 2.19911486]\n",
      "Label:  B\n",
      "Assigned:  B\n",
      "Probabilities:  {'A': 0.2282730898648071, 'B': 0.7717269101351929}\n",
      "Classification: CORRECT\n",
      "----------------------------------------------------\n",
      "Data point:  [0.75398224 4.0212386 ]\n",
      "Label:  B\n",
      "Assigned:  B\n",
      "Probabilities:  {'A': 0.09902840612230455, 'B': 0.9009715938776954}\n",
      "Classification: CORRECT\n",
      "----------------------------------------------------\n",
      "Data point:  [0.81681409 4.46106157]\n",
      "Label:  B\n",
      "Assigned:  B\n",
      "Probabilities:  {'A': 0.046236787287726074, 'B': 0.9537632127122739}\n",
      "Classification: CORRECT\n",
      "----------------------------------------------------\n",
      "Data point:  [0.75398224 3.95840674]\n",
      "Label:  B\n",
      "Assigned:  B\n",
      "Probabilities:  {'A': 0.09256868435908622, 'B': 0.907431315640914}\n",
      "Classification: CORRECT\n",
      "----------------------------------------------------\n",
      "Data point:  [5.65486678 2.63893783]\n",
      "Label:  B\n",
      "Assigned:  B\n",
      "Probabilities:  {'A': 0.034966786095902994, 'B': 0.9650332139040971}\n",
      "Classification: CORRECT\n",
      "----------------------------------------------------\n",
      "Data point:  [3.83274304 0.75398224]\n",
      "Label:  B\n",
      "Assigned:  B\n",
      "Probabilities:  {'A': 0.1078480033464456, 'B': 0.8921519966535545}\n",
      "Classification: CORRECT\n",
      "----------------------------------------------------\n",
      "Data point:  [0.69115038 3.95840674]\n",
      "Label:  B\n",
      "Assigned:  B\n",
      "Probabilities:  {'A': 0.09497891664393487, 'B': 0.905021083356065}\n",
      "Classification: CORRECT\n",
      "----------------------------------------------------\n",
      "Data point:  [5.46637122 1.75929189]\n",
      "Label:  B\n",
      "Assigned:  B\n",
      "Probabilities:  {'A': 0.07277670607764289, 'B': 0.927223293922357}\n",
      "Classification: CORRECT\n",
      "----------------------------------------------------\n",
      "Data point:  [0.56548668 0.25132741]\n",
      "Label:  B\n",
      "Assigned:  B\n",
      "Probabilities:  {'A': 0.11930820249964207, 'B': 0.880691797500358}\n",
      "Classification: CORRECT\n",
      "----------------------------------------------------\n",
      "Data point:  [5.40353936 1.0681415 ]\n",
      "Label:  B\n",
      "Assigned:  A\n",
      "Probabilities:  {'A': 0.9677699886009719, 'B': 0.032230011399028036}\n",
      "Classification: INCORRECT\n",
      "----------------------------------------------------\n",
      "Data point:  [2.45044227 2.19911486]\n",
      "Label:  B\n",
      "Assigned:  B\n",
      "Probabilities:  {'A': 0.19016022882471573, 'B': 0.8098397711752843}\n",
      "Classification: CORRECT\n",
      "\n",
      "95.0 % of the test data was correctly classified!\n"
     ]
    },
    {
     "data": {
      "image/png": "[encoded data removed]",
      "text/plain": [
       "<Figure size 432x288 with 1 Axes>"
      ]
     },
     "metadata": {
      "needs_background": "light"
     },
     "output_type": "display_data"
    }
   ],
   "source": [
    "# Test the trained classifier\n",
    "#To check how well we could train the classifier, we evaluate the classification performance on the\n",
    "#test data set.\n",
    " # collect coordinates of test data\n",
    "test_label_0_x = [x[0] for x in test_input[class_labels[0]]]\n",
    "test_label_0_y = [x[1] for x in test_input[class_labels[0]]]\n",
    "test_label_1_x = [x[0] for x in test_input[class_labels[1]]]\n",
    "test_label_1_y = [x[1] for x in test_input[class_labels[1]]]\n",
    "# initialize lists for misclassified datapoints\n",
    "test_label_misclassified_x = []\n",
    "test_label_misclassified_y = []\n",
    "# evaluate test data\n",
    "for label, samples in test_input.items():\n",
    "# classify samples\n",
    "    results = classify(samples, opt_params, class_labels)\n",
    "# analyze results\n",
    "    for i, result in enumerate(results):\n",
    "# assign label\n",
    "        assigned_label = class_labels[np.argmax([p for p in result.values()])]\n",
    "        print('----------------------------------------------------')\n",
    "        print('Data point: ', samples[i])\n",
    "        print('Label: ', label)\n",
    "        print('Assigned: ', assigned_label)\n",
    "        print('Probabilities: ', result)\n",
    "        if label != assigned_label:\n",
    "            print('Classification:', 'INCORRECT')\n",
    "            test_label_misclassified_x += [samples[i][0]]\n",
    "            test_label_misclassified_y += [samples[i][1]]\n",
    "        else:\n",
    "            print('Classification:', 'CORRECT')\n",
    "# compute fraction of misclassified samples\n",
    "total = len(test_label_0_x) + len(test_label_1_x)\n",
    "num_misclassified = len(test_label_misclassified_x)\n",
    "print()\n",
    "print(100*(1-num_misclassified/total), \"% of the test data was correctly classified!\")\n",
    "# plot results\n",
    "plt.figure()\n",
    "plt.scatter(test_label_0_x, test_label_0_y, c='b', label=class_labels[0], linewidths=5)\n",
    "plt.scatter(test_label_1_x, test_label_1_y, c='g', label=class_labels[1], linewidths=5)\n",
    "plt.scatter(test_label_misclassified_x, test_label_misclassified_y, linewidths=20, s=1, edgecolors='r')\n",
    "plt.legend()\n",
    "plt.show()"
   ]
  }
 ],
 "metadata": {
  "kernelspec": {
   "display_name": "Qiskit v0.32.1 (ipykernel)",
   "language": "python",
   "name": "python3"
  },
  "language_info": {
   "codemirror_mode": {
    "name": "ipython",
    "version": 3
   },
   "file_extension": ".py",
   "mimetype": "text/x-python",
   "name": "python",
   "nbconvert_exporter": "python",
   "pygments_lexer": "ipython3",
   "version": "3.8.10"
  },
  "widgets": {
   "application/vnd.jupyter.widget-state+json": {
    "state": {
     "04ac12c45a934127a62520a39fb4a82a": {
      "model_module": "@jupyter-widgets/base",
      "model_module_version": "1.2.0",
      "model_name": "LayoutModel",
      "state": {
       "grid_area": "right",
       "padding": "0px 0px 0px 0px",
       "width": "70px"
      }
     },
     "0bd47a0ce6184d20a41e3a6b51722af2": {
      "model_module": "@jupyter-widgets/base",
      "model_module_version": "1.2.0",
      "model_name": "LayoutModel",
      "state": {
       "width": "190px"
      }
     },
     "0e90697fd07c4ae69907afdb1f393803": {
      "model_module": "@jupyter-widgets/controls",
      "model_module_version": "1.5.0",
      "model_name": "HTMLModel",
      "state": {
       "layout": "IPY_MODEL_0bd47a0ce6184d20a41e3a6b51722af2",
       "style": "IPY_MODEL_8a633e40606e48d5864e6c1223df4536",
       "value": "<h5>Job ID</h5>"
      }
     },
     "146c1bd186274f19937f3c4aa5205c01": {
      "model_module": "@jupyter-widgets/base",
      "model_module_version": "1.2.0",
      "model_name": "LayoutModel",
      "state": {}
     },
     "158161c784a04c6699c45d62b4d3bfa1": {
      "model_module": "@jupyter-widgets/controls",
      "model_module_version": "1.5.0",
      "model_name": "GridBoxModel",
      "state": {
       "children": [
        "IPY_MODEL_4bdf15e54c304b13a3e81b0903d1f77d"
       ],
       "layout": "IPY_MODEL_7e541307723d431ab000e5fd6b309086"
      }
     },
     "2d5e20e4827f4d9e9abd634200a5c5f7": {
      "model_module": "@jupyter-widgets/base",
      "model_module_version": "1.2.0",
      "model_name": "LayoutModel",
      "state": {
       "width": "145px"
      }
     },
     "2e1706d505264806bf966444c3e2d862": {
      "model_module": "@jupyter-widgets/base",
      "model_module_version": "1.2.0",
      "model_name": "LayoutModel",
      "state": {
       "margin": "0px 0px 0px 37px",
       "width": "600px"
      }
     },
     "3290f12559db408384d6bb1867e1e44b": {
      "model_module": "@jupyter-widgets/controls",
      "model_module_version": "1.5.0",
      "model_name": "DescriptionStyleModel",
      "state": {
       "description_width": ""
      }
     },
     "364551bed40041818edcdc4da11691ab": {
      "model_module": "@jupyter-widgets/controls",
      "model_module_version": "1.5.0",
      "model_name": "ButtonStyleModel",
      "state": {}
     },
     "4bdf15e54c304b13a3e81b0903d1f77d": {
      "model_module": "@jupyter-widgets/controls",
      "model_module_version": "1.5.0",
      "model_name": "ButtonModel",
      "state": {
       "button_style": "primary",
       "description": "Clear",
       "layout": "IPY_MODEL_04ac12c45a934127a62520a39fb4a82a",
       "style": "IPY_MODEL_364551bed40041818edcdc4da11691ab"
      }
     },
     "5328d8bb6f174b1fa8596e993d49d372": {
      "model_module": "@jupyter-widgets/base",
      "model_module_version": "1.2.0",
      "model_name": "LayoutModel",
      "state": {
       "margin": "0px 0px 10px 0px"
      }
     },
     "5cfb498050ff499881176497ddc77a55": {
      "model_module": "@jupyter-widgets/controls",
      "model_module_version": "1.5.0",
      "model_name": "HTMLModel",
      "state": {
       "layout": "IPY_MODEL_2d5e20e4827f4d9e9abd634200a5c5f7",
       "style": "IPY_MODEL_e122db6cdc4a4a6aac062b83b169fa5a",
       "value": "<h5>Backend</h5>"
      }
     },
     "64fffbd080b34c50a91d561884663d65": {
      "model_module": "@jupyter-widgets/controls",
      "model_module_version": "1.5.0",
      "model_name": "HTMLModel",
      "state": {
       "layout": "IPY_MODEL_7af08895044a48738b8a2321ae495115",
       "style": "IPY_MODEL_3290f12559db408384d6bb1867e1e44b",
       "value": "<h5>Queue</h5>"
      }
     },
     "7af08895044a48738b8a2321ae495115": {
      "model_module": "@jupyter-widgets/base",
      "model_module_version": "1.2.0",
      "model_name": "LayoutModel",
      "state": {
       "width": "70px"
      }
     },
     "7e541307723d431ab000e5fd6b309086": {
      "model_module": "@jupyter-widgets/base",
      "model_module_version": "1.2.0",
      "model_name": "LayoutModel",
      "state": {
       "grid_template_areas": "\n                                       \". . . . right \"\n                                        ",
       "grid_template_columns": "20% 20% 20% 20% 20%",
       "width": "100%"
      }
     },
     "7f0988590a574e86ac1b700e50c170e7": {
      "model_module": "@jupyter-widgets/controls",
      "model_module_version": "1.5.0",
      "model_name": "HBoxModel",
      "state": {
       "children": [
        "IPY_MODEL_0e90697fd07c4ae69907afdb1f393803",
        "IPY_MODEL_5cfb498050ff499881176497ddc77a55",
        "IPY_MODEL_88ef3360062c4cc99f02005ed4452eb6",
        "IPY_MODEL_64fffbd080b34c50a91d561884663d65",
        "IPY_MODEL_f3f69d20e5314074a852cbc969e4456b"
       ],
       "layout": "IPY_MODEL_2e1706d505264806bf966444c3e2d862"
      }
     },
     "88ef3360062c4cc99f02005ed4452eb6": {
      "model_module": "@jupyter-widgets/controls",
      "model_module_version": "1.5.0",
      "model_name": "HTMLModel",
      "state": {
       "layout": "IPY_MODEL_9ff1bbe94fb245a9afb1ffa353689d8f",
       "style": "IPY_MODEL_e6f06fb8d45042968242534c8ff59b83",
       "value": "<h5>Status</h5>"
      }
     },
     "8a633e40606e48d5864e6c1223df4536": {
      "model_module": "@jupyter-widgets/controls",
      "model_module_version": "1.5.0",
      "model_name": "DescriptionStyleModel",
      "state": {
       "description_width": ""
      }
     },
     "8defbe11ab5d44bab09f86c1d425b742": {
      "model_module": "@jupyter-widgets/controls",
      "model_module_version": "1.5.0",
      "model_name": "DescriptionStyleModel",
      "state": {
       "description_width": ""
      }
     },
     "9ff1bbe94fb245a9afb1ffa353689d8f": {
      "model_module": "@jupyter-widgets/base",
      "model_module_version": "1.2.0",
      "model_name": "LayoutModel",
      "state": {
       "width": "95px"
      }
     },
     "a6c970fe808f41818a7ce0fa8831f247": {
      "model_module": "@jupyter-widgets/controls",
      "model_module_version": "1.5.0",
      "model_name": "HTMLModel",
      "state": {
       "layout": "IPY_MODEL_5328d8bb6f174b1fa8596e993d49d372",
       "style": "IPY_MODEL_b2e4490c1b124106b1384f400845a456",
       "value": "<p style='font-family: IBM Plex Sans, Arial, Helvetica, sans-serif; font-size: 20px; font-weight: medium;'>Circuit Properties</p>"
      }
     },
     "b2e4490c1b124106b1384f400845a456": {
      "model_module": "@jupyter-widgets/controls",
      "model_module_version": "1.5.0",
      "model_name": "DescriptionStyleModel",
      "state": {
       "description_width": ""
      }
     },
     "e122db6cdc4a4a6aac062b83b169fa5a": {
      "model_module": "@jupyter-widgets/controls",
      "model_module_version": "1.5.0",
      "model_name": "DescriptionStyleModel",
      "state": {
       "description_width": ""
      }
     },
     "e6f06fb8d45042968242534c8ff59b83": {
      "model_module": "@jupyter-widgets/controls",
      "model_module_version": "1.5.0",
      "model_name": "DescriptionStyleModel",
      "state": {
       "description_width": ""
      }
     },
     "f3f69d20e5314074a852cbc969e4456b": {
      "model_module": "@jupyter-widgets/controls",
      "model_module_version": "1.5.0",
      "model_name": "HTMLModel",
      "state": {
       "layout": "IPY_MODEL_146c1bd186274f19937f3c4aa5205c01",
       "style": "IPY_MODEL_8defbe11ab5d44bab09f86c1d425b742",
       "value": "<h5>Message</h5>"
      }
     }
    },
    "version_major": 2,
    "version_minor": 0
   }
  }
 },
 "nbformat": 4,
 "nbformat_minor": 5
}
